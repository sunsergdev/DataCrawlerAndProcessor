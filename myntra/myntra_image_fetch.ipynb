{
 "cells": [
  {
   "cell_type": "markdown",
   "metadata": {},
   "source": [
    "# Prepare all directories"
   ]
  },
  {
   "cell_type": "code",
   "execution_count": 1,
   "metadata": {},
   "outputs": [
    {
     "name": "stdout",
     "output_type": "stream",
     "text": [
      "Folder /Users/workspace/Projects/dot_mechanical_turk/data/scripts/data_crawl/jsParsers/myntra/images already exists\n"
     ]
    }
   ],
   "source": [
    "import os\n",
    "import json\n",
    "\n",
    "cwd = os.getcwd()\n",
    "\n",
    "articles_dir = os.path.join(cwd, \"articles\")\n",
    "article_files = [os.path.join(articles_dir, file) for file in os.listdir(articles_dir)]\n",
    "images_dir = os.path.join(cwd, \"images\")\n",
    "\n",
    "if not os.path.exists(images_dir):\n",
    "    os.mkdir(images_dir)\n",
    "    print(\"Folder %s created!\" % images_dir)\n",
    "else:\n",
    "    print(\"Folder %s already exists\" % images_dir)"
   ]
  },
  {
   "cell_type": "markdown",
   "metadata": {},
   "source": [
    "# Preprocess image ids and their urls"
   ]
  },
  {
   "cell_type": "code",
   "execution_count": 22,
   "metadata": {},
   "outputs": [
    {
     "name": "stdout",
     "output_type": "stream",
     "text": [
      "13\n"
     ]
    }
   ],
   "source": [
    "remaining_products = \"remaining_products\"\n",
    "remainingIds = [\"15100708\", \"13624176\", \"11841316\", \"13623056\", \"10328163\", \"23885636\", \"20185308\", \"22426762\", \"20348594\", \"20064030\", \"15050578\", \"22595066\", \"11885560\"]\n",
    "# with open(remaining_products) as p_file:\n",
    "#     for id in p_file.readlines():\n",
    "#         remainingIds[id.strip()] = 1\n",
    "    \n",
    "product_images_map = []\n",
    "for file in article_files:\n",
    "    filename = os.path.splitext(os.path.basename(file))[0]\n",
    "    if filename in remainingIds:\n",
    "        with open(file) as f:\n",
    "            try :\n",
    "                data = json.loads(f.read())\n",
    "                images = list(\n",
    "                    map(\n",
    "                        lambda image: image[\"imageURL\"],\n",
    "                        data[\"media\"][\"albums\"][0][\"images\"],\n",
    "                    )\n",
    "                )\n",
    "                product_img_dir = os.path.join(\n",
    "                        images_dir, filename\n",
    "                    )\n",
    "                product_images_map.append((product_img_dir, images))                    \n",
    "            except Exception as e:\n",
    "                print(e, file)\n",
    "print(len(product_images_map))"
   ]
  },
  {
   "cell_type": "markdown",
   "metadata": {},
   "source": [
    "# Check and Fetch all images"
   ]
  },
  {
   "cell_type": "code",
   "execution_count": 23,
   "metadata": {},
   "outputs": [
    {
     "name": "stdout",
     "output_type": "stream",
     "text": [
      "Image error: cannot identify image file '/Users/workspace/Projects/dot_mechanical_turk/data/scripts/data_crawl/jsParsers/myntra/images/20348594/0.jpg' /Users/workspace/Projects/dot_mechanical_turk/data/scripts/data_crawl/jsParsers/myntra/images/20348594/0.jpg\n",
      "Image error: image file is truncated (2 bytes not processed) /Users/workspace/Projects/dot_mechanical_turk/data/scripts/data_crawl/jsParsers/myntra/images/23885636/0.jpg\n",
      "Image error: image file is truncated (3 bytes not processed) /Users/workspace/Projects/dot_mechanical_turk/data/scripts/data_crawl/jsParsers/myntra/images/22595066/0.jpg\n",
      "Image error: cannot identify image file '/Users/workspace/Projects/dot_mechanical_turk/data/scripts/data_crawl/jsParsers/myntra/images/20064030/1.jpg' /Users/workspace/Projects/dot_mechanical_turk/data/scripts/data_crawl/jsParsers/myntra/images/20064030/1.jpg\n",
      "Image error: image file is truncated (1 bytes not processed) /Users/workspace/Projects/dot_mechanical_turk/data/scripts/data_crawl/jsParsers/myntra/images/22426762/2.jpg\n",
      "Image error: image file is truncated (14 bytes not processed) /Users/workspace/Projects/dot_mechanical_turk/data/scripts/data_crawl/jsParsers/myntra/images/13624176/2.jpg\n",
      "Image error: image file is truncated (9 bytes not processed) /Users/workspace/Projects/dot_mechanical_turk/data/scripts/data_crawl/jsParsers/myntra/images/11841316/2.jpg\n",
      "Image error: image file is truncated (2 bytes not processed) /Users/workspace/Projects/dot_mechanical_turk/data/scripts/data_crawl/jsParsers/myntra/images/15050578/2.jpg\n",
      "Image error: image file is truncated (6 bytes not processed) /Users/workspace/Projects/dot_mechanical_turk/data/scripts/data_crawl/jsParsers/myntra/images/15100708/4.jpg\n",
      "Image error: cannot identify image file '/Users/workspace/Projects/dot_mechanical_turk/data/scripts/data_crawl/jsParsers/myntra/images/10328163/3.jpg' /Users/workspace/Projects/dot_mechanical_turk/data/scripts/data_crawl/jsParsers/myntra/images/10328163/3.jpg\n",
      "Image error: image file is truncated (5 bytes not processed) /Users/workspace/Projects/dot_mechanical_turk/data/scripts/data_crawl/jsParsers/myntra/images/13623056/5.jpg\n",
      "Image error: cannot identify image file '/Users/workspace/Projects/dot_mechanical_turk/data/scripts/data_crawl/jsParsers/myntra/images/20185308/4.jpg' /Users/workspace/Projects/dot_mechanical_turk/data/scripts/data_crawl/jsParsers/myntra/images/20185308/4.jpg\n",
      "Image error: image file is truncated (6 bytes not processed) /Users/workspace/Projects/dot_mechanical_turk/data/scripts/data_crawl/jsParsers/myntra/images/11885560/4.jpg\n",
      "Download error http://assets.myntassets.com/assets/images/20185308/2022/10/11/650d2bf3-cacd-416b-b1d5-73d28704c6ed1665466073851-Alcis-Men-Tshirts-2911665466073387-5.jpg /Users/workspace/Projects/dot_mechanical_turk/data/scripts/data_crawl/jsParsers/myntra/images/20185308/4.jpg\n",
      "Completed 1\n",
      "Download error http://assets.myntassets.com/assets/images/10328163/2019/8/2/bf42b1b7-9976-48e4-8aca-cef66c7e92bd1564747091999-SOJANYA-Men-Green--Coral-Orange-Printed-Nehru-Jacket-1901564-4.jpg /Users/workspace/Projects/dot_mechanical_turk/data/scripts/data_crawl/jsParsers/myntra/images/10328163/3.jpg\n",
      "Completed 2\n",
      "Download error http://assets.myntassets.com/assets/images/20348594/2022/10/10/509aa2d7-01b0-4822-a187-79190c175b261665402950877WomenYellowPureCottonPrintedNightsuit1.jpg /Users/workspace/Projects/dot_mechanical_turk/data/scripts/data_crawl/jsParsers/myntra/images/20348594/0.jpg\n",
      "Completed 3\n",
      "Download success http://assets.myntassets.com/assets/images/15100708/2021/8/10/c25ea784-368b-4e97-b3fe-b9dad153bef51628607397408WomenRedSuperCombodCottonLycraCapri5.jpg /Users/workspace/Projects/dot_mechanical_turk/data/scripts/data_crawl/jsParsers/myntra/images/15100708/4.jpg\n",
      "Completed 4\n",
      "Download success http://assets.myntassets.com/assets/images/23885636/2023/7/5/aef7c675-bdd5-42a7-a63c-b1c0802d7f1c1688564035118BibaWomenBlackFloralOpaquePrintedCasualShirt1.jpg /Users/workspace/Projects/dot_mechanical_turk/data/scripts/data_crawl/jsParsers/myntra/images/23885636/0.jpg\n",
      "Download success http://assets.myntassets.com/assets/images/22595066/2023/3/31/2d6fbc71-88e7-46b9-9a27-5891057ea3801680255008978MonteCarloMenYellowColourblockedAppliqueT-shirt1.jpg /Users/workspace/Projects/dot_mechanical_turk/data/scripts/data_crawl/jsParsers/myntra/images/22595066/0.jpg\n",
      "Download error http://assets.myntassets.com/assets/images/20064030/2022/9/18/22f50112-3059-478b-877d-dcfdf1d761911663443900096Tshirts2.jpg /Users/workspace/Projects/dot_mechanical_turk/data/scripts/data_crawl/jsParsers/myntra/images/20064030/1.jpg\n",
      "Completed 5\n",
      "Completed 6\n",
      "Completed 7\n",
      "Download success http://assets.myntassets.com/assets/images/13624176/2021/2/11/ebdcdeed-a051-4b3f-8ddd-04be9757deb81613017672156DollarMissyWomenLavender-ColouredSolidAnkle-LengthLeggings3.jpg /Users/workspace/Projects/dot_mechanical_turk/data/scripts/data_crawl/jsParsers/myntra/images/13624176/2.jpg\n",
      "Download success http://assets.myntassets.com/assets/images/15050578/2021/8/6/849db833-7c0c-4221-8ba9-8b7cc30e46611628247922847Jeggings3.jpg /Users/workspace/Projects/dot_mechanical_turk/data/scripts/data_crawl/jsParsers/myntra/images/15050578/2.jpg\n",
      "Completed 8\n",
      "Completed 9\n",
      "Download success http://assets.myntassets.com/assets/images/22426762/2023/3/21/7a04fff1-5f97-4fb3-af66-dd691059ef7a1679373736336GoColorsWomenBlackSlimFitCyclingSportsShorts3.jpg /Users/workspace/Projects/dot_mechanical_turk/data/scripts/data_crawl/jsParsers/myntra/images/22426762/2.jpg\n",
      "Completed 10\n",
      "Download success http://assets.myntassets.com/assets/images/13623056/2021/2/11/5043939a-717a-4c55-9fb1-ab2ded1ee5ac1613017721663SOUNDARYAWomenMagenta-PinkGreenTie-DyedPrintWrap-AroundMaxiS6.jpg /Users/workspace/Projects/dot_mechanical_turk/data/scripts/data_crawl/jsParsers/myntra/images/13623056/5.jpg\n",
      "Completed 11\n",
      "Download success http://assets.myntassets.com/assets/images/11841316/2020/5/12/8e7362cc-983b-4b0a-993f-d5568a3969631589266402222BitterlimeWomenPackOf2SolidChuridar-LengthLeggings3.jpg /Users/workspace/Projects/dot_mechanical_turk/data/scripts/data_crawl/jsParsers/myntra/images/11841316/2.jpg\n",
      "Completed 12\n",
      "Download success http://assets.myntassets.com/assets/images/11885560/2020/6/9/3aedd4cd-0afc-483b-9fca-5312c409de251591679594740AustinwoodMenBlackStripedPoloCollarT-shirt5.jpg /Users/workspace/Projects/dot_mechanical_turk/data/scripts/data_crawl/jsParsers/myntra/images/11885560/4.jpg\n",
      "Completed 13\n"
     ]
    }
   ],
   "source": [
    "from threading import Lock\n",
    "import urllib\n",
    "from urllib.request import urlopen\n",
    "import requests\n",
    "from PIL import Image as ImageP\n",
    "\n",
    "from concurrent.futures import ThreadPoolExecutor\n",
    "\n",
    "def pil_check(filename):\n",
    "    img = ImageP.open(filename)  # open the image file\n",
    "    img.verify()  # verify that it is a good image, without decoding it.. quite fast\n",
    "    img.close()\n",
    "\n",
    "    # Image manipulation is mandatory to detect few defects\n",
    "    img = ImageP.open(filename)  # open the image file\n",
    "    # alternative (removed) version, decode/recode:\n",
    "    # f = cStringIO.StringIO()\n",
    "    # f = io.BytesIO()\n",
    "    # img.save(f, \"BMP\")\n",
    "    # f.close()\n",
    "    img.transpose(ImageP.FLIP_LEFT_RIGHT)\n",
    "    img.close()\n",
    "\n",
    "# load a file from a URL, returns content of downloaded file\n",
    "def download_url(urlpath, image_path):\n",
    "    # open a connection to the server\n",
    "    response = requests.get(urlpath)\n",
    "    if response.status_code == 200:\n",
    "        print(\"Download success\", urlpath, image_path)\n",
    "        return response.content\n",
    "    else:\n",
    "        print(\"Download error\", urlpath, image_path)\n",
    "\n",
    "# save provided content to the local path\n",
    "def save_file(path, data):\n",
    "    # open the local file for writing\n",
    "    with open(path, 'wb') as file:\n",
    "        # write all provided data to the file\n",
    "        file.write(data)\n",
    "\n",
    "def downloadAndSave(image, path):\n",
    "    data = download_url(image, path)\n",
    "    save_file(path=path, data=data)\n",
    "\n",
    "def fetch_images(file):\n",
    "    if not os.path.exists(file[0]):\n",
    "        os.mkdir(file[0])\n",
    "        for idx, image in enumerate(file[1]):\n",
    "            downloadAndSave(image, os.path.join(file[0], \"{idx}.jpg\".format(idx=idx)))\n",
    "    else:\n",
    "        for idx, image in enumerate(file[1]):\n",
    "            path = os.path.join(file[0], \"{idx}.jpg\".format(idx=idx))\n",
    "            if not os.path.exists(path):\n",
    "                downloadAndSave(image, path)\n",
    "            else:\n",
    "                try:\n",
    "                   pil_check(path)\n",
    "                except Exception as e:\n",
    "                    print(\"Image error:\", e, path)\n",
    "                    downloadAndSave(image, path)\n",
    "                \n",
    "import concurrent.futures\n",
    "\n",
    "with ThreadPoolExecutor(50) as ex:\n",
    "    count = 0\n",
    "    futures = [ex.submit(fetch_images, data) for data in product_images_map]\n",
    "    for future in concurrent.futures.as_completed(futures):\n",
    "        count+=1\n",
    "        print(\"Completed\", count)\n"
   ]
  },
  {
   "cell_type": "markdown",
   "metadata": {},
   "source": [
    "# Validate and check how many images are corrupted"
   ]
  },
  {
   "cell_type": "code",
   "execution_count": 24,
   "metadata": {},
   "outputs": [
    {
     "name": "stdout",
     "output_type": "stream",
     "text": [
      "Completed 1\n",
      "Completed 2\n",
      "Completed 3\n",
      "Completed 4\n",
      "Completed 5\n",
      "Completed 6\n",
      "Completed 7\n",
      "Completed 8\n",
      "Completed 9\n",
      "Completed 10\n",
      "Completed 11\n",
      "Completed 12\n",
      "Completed 13\n",
      "Total failed product dict_keys(['/Users/workspace/Projects/dot_mechanical_turk/data/scripts/data_crawl/jsParsers/myntra/images/15100708', '/Users/workspace/Projects/dot_mechanical_turk/data/scripts/data_crawl/jsParsers/myntra/images/11841316', '/Users/workspace/Projects/dot_mechanical_turk/data/scripts/data_crawl/jsParsers/myntra/images/10328163', '/Users/workspace/Projects/dot_mechanical_turk/data/scripts/data_crawl/jsParsers/myntra/images/22426762', '/Users/workspace/Projects/dot_mechanical_turk/data/scripts/data_crawl/jsParsers/myntra/images/22595066', '/Users/workspace/Projects/dot_mechanical_turk/data/scripts/data_crawl/jsParsers/myntra/images/13624176', '/Users/workspace/Projects/dot_mechanical_turk/data/scripts/data_crawl/jsParsers/myntra/images/15050578', '/Users/workspace/Projects/dot_mechanical_turk/data/scripts/data_crawl/jsParsers/myntra/images/20064030', '/Users/workspace/Projects/dot_mechanical_turk/data/scripts/data_crawl/jsParsers/myntra/images/20185308', '/Users/workspace/Projects/dot_mechanical_turk/data/scripts/data_crawl/jsParsers/myntra/images/13623056', '/Users/workspace/Projects/dot_mechanical_turk/data/scripts/data_crawl/jsParsers/myntra/images/23885636', '/Users/workspace/Projects/dot_mechanical_turk/data/scripts/data_crawl/jsParsers/myntra/images/20348594', '/Users/workspace/Projects/dot_mechanical_turk/data/scripts/data_crawl/jsParsers/myntra/images/11885560'])\n"
     ]
    }
   ],
   "source": [
    "from PIL import Image as ImageP\n",
    "\n",
    "from concurrent.futures import ThreadPoolExecutor\n",
    "\n",
    "def pil_check(filename):\n",
    "    img = ImageP.open(filename)  # open the image file\n",
    "    img.verify()  # verify that it is a good image, without decoding it.. quite fast\n",
    "    img.close()\n",
    "\n",
    "    # Image manipulation is mandatory to detect few defects\n",
    "    img = ImageP.open(filename)  # open the image file\n",
    "    # alternative (removed) version, decode/recode:\n",
    "    # f = cStringIO.StringIO()\n",
    "    # f = io.BytesIO()\n",
    "    # img.save(f, \"BMP\")\n",
    "    # f.close()\n",
    "    img.transpose(ImageP.FLIP_LEFT_RIGHT)\n",
    "    img.close()\n",
    "    \n",
    "def checkImages(file):\n",
    "    corrupted_images = []\n",
    "    for idx, image in enumerate(file[1]):\n",
    "        path = os.path.join(file[0], \"{idx}.jpg\".format(idx=idx))\n",
    "        try:\n",
    "            pil_check(path)\n",
    "        except Exception as e:\n",
    "            corrupted_images.append(image)\n",
    "    return (file[0], corrupted_images)\n",
    "                \n",
    "import concurrent.futures\n",
    "\n",
    "with ThreadPoolExecutor(100) as ex:\n",
    "    corrupted_image = {}\n",
    "    count = 0\n",
    "    futures = [ex.submit(checkImages, data) for data in product_images_map]\n",
    "    for future in concurrent.futures.as_completed(futures):\n",
    "        result = future.result()\n",
    "        count += 1\n",
    "        if result[1]:\n",
    "            corrupted_image[result[0]] = result[1]\n",
    "        print(\"Completed\", count)\n",
    "    print(\"Total failed product\", corrupted_image.keys())"
   ]
  },
  {
   "cell_type": "code",
   "execution_count": 29,
   "metadata": {},
   "outputs": [
    {
     "name": "stdout",
     "output_type": "stream",
     "text": [
      "Error image file is truncated (6 bytes not processed) /Users/workspace/Projects/dot_mechanical_turk/data/scripts/data_crawl/jsParsers/myntra/images/15100708 4.jpg\n",
      "Error image file is truncated (9 bytes not processed) /Users/workspace/Projects/dot_mechanical_turk/data/scripts/data_crawl/jsParsers/myntra/images/11841316 2.jpg\n",
      "Error cannot identify image file '/Users/workspace/Projects/dot_mechanical_turk/data/scripts/data_crawl/jsParsers/myntra/images/10328163/4.jpg' /Users/workspace/Projects/dot_mechanical_turk/data/scripts/data_crawl/jsParsers/myntra/images/10328163 4.jpg\n",
      "Error cannot identify image file '/Users/workspace/Projects/dot_mechanical_turk/data/scripts/data_crawl/jsParsers/myntra/images/10328163/3.jpg' /Users/workspace/Projects/dot_mechanical_turk/data/scripts/data_crawl/jsParsers/myntra/images/10328163 3.jpg\n",
      "Error image file is truncated (1 bytes not processed) /Users/workspace/Projects/dot_mechanical_turk/data/scripts/data_crawl/jsParsers/myntra/images/22426762 2.jpg\n",
      "Error image file is truncated (3 bytes not processed) /Users/workspace/Projects/dot_mechanical_turk/data/scripts/data_crawl/jsParsers/myntra/images/22595066 0.jpg\n",
      "Error image file is truncated (14 bytes not processed) /Users/workspace/Projects/dot_mechanical_turk/data/scripts/data_crawl/jsParsers/myntra/images/13624176 2.jpg\n",
      "Error image file is truncated (2 bytes not processed) /Users/workspace/Projects/dot_mechanical_turk/data/scripts/data_crawl/jsParsers/myntra/images/15050578 2.jpg\n",
      "Error cannot identify image file '/Users/workspace/Projects/dot_mechanical_turk/data/scripts/data_crawl/jsParsers/myntra/images/20064030/1.jpg' /Users/workspace/Projects/dot_mechanical_turk/data/scripts/data_crawl/jsParsers/myntra/images/20064030 1.jpg\n",
      "Error cannot identify image file '/Users/workspace/Projects/dot_mechanical_turk/data/scripts/data_crawl/jsParsers/myntra/images/20185308/4.jpg' /Users/workspace/Projects/dot_mechanical_turk/data/scripts/data_crawl/jsParsers/myntra/images/20185308 4.jpg\n",
      "Error image file is truncated (5 bytes not processed) /Users/workspace/Projects/dot_mechanical_turk/data/scripts/data_crawl/jsParsers/myntra/images/13623056 5.jpg\n",
      "Error image file is truncated (2 bytes not processed) /Users/workspace/Projects/dot_mechanical_turk/data/scripts/data_crawl/jsParsers/myntra/images/23885636 0.jpg\n",
      "Error cannot identify image file '/Users/workspace/Projects/dot_mechanical_turk/data/scripts/data_crawl/jsParsers/myntra/images/20348594/0.jpg' /Users/workspace/Projects/dot_mechanical_turk/data/scripts/data_crawl/jsParsers/myntra/images/20348594 0.jpg\n",
      "Error image file is truncated (6 bytes not processed) /Users/workspace/Projects/dot_mechanical_turk/data/scripts/data_crawl/jsParsers/myntra/images/11885560 4.jpg\n"
     ]
    }
   ],
   "source": [
    "# Check images\n",
    "for f in corrupted_image.keys():\n",
    "    images = os.listdir(f)\n",
    "    for image in images:\n",
    "        try:\n",
    "            pil_check(os.path.join(f, image))\n",
    "        except Exception as e:\n",
    "            print(\"Error\",e, f, image)"
   ]
  },
  {
   "cell_type": "markdown",
   "metadata": {},
   "source": [
    "# Get all data sizes"
   ]
  },
  {
   "cell_type": "code",
   "execution_count": 31,
   "metadata": {},
   "outputs": [
    {
     "data": {
      "text/plain": [
       "434679655991"
      ]
     },
     "execution_count": 31,
     "metadata": {},
     "output_type": "execute_result"
    }
   ],
   "source": [
    "from pathlib import Path\n",
    "root_directory = Path('./images')\n",
    "sum(f.stat().st_size for f in root_directory.glob('**/*') if f.is_file())"
   ]
  },
  {
   "cell_type": "code",
   "execution_count": 32,
   "metadata": {},
   "outputs": [
    {
     "name": "stdout",
     "output_type": "stream",
     "text": [
      "7322285984\n"
     ]
    }
   ],
   "source": [
    "articles_directory = Path('./articles')\n",
    "articles_size = sum(f.stat().st_size for f in articles_directory.glob('**/*') if f.is_file())\n",
    "print(articles_size)"
   ]
  },
  {
   "cell_type": "code",
   "execution_count": 33,
   "metadata": {},
   "outputs": [
    {
     "name": "stdout",
     "output_type": "stream",
     "text": [
      "Total data size in GB is:  411.64638658519834\n"
     ]
    }
   ],
   "source": [
    "total = articles_size + 434679655991\n",
    "_KB = 1024\n",
    "\n",
    "total_GB = total / _KB**3\n",
    "print(\"Total data size in GB is: \", total_GB)"
   ]
  },
  {
   "cell_type": "code",
   "execution_count": 38,
   "metadata": {},
   "outputs": [
    {
     "name": "stdout",
     "output_type": "stream",
     "text": [
      "Articles: 328385\n",
      "ImagesSet: 328385\n",
      "Have equal images set and articles: True\n"
     ]
    }
   ],
   "source": [
    "# Validate if we have equal articles and images set\n",
    "\n",
    "imageDirsCount = 0\n",
    "# Iterate directory\n",
    "for path in os.listdir(images_dir):\n",
    "    # check if current path is a file\n",
    "    if os.path.isdir(os.path.join(images_dir, path)):\n",
    "        imageDirsCount += 1\n",
    "\n",
    "articlesCount = len([name for name in os.listdir(articles_dir) if os.path.isfile(os.path.join(articles_dir, name))])\n",
    "\n",
    "print(\"Articles:\", articlesCount)\n",
    "print(\"ImagesSet:\", imageDirsCount)\n",
    "print(\"Have equal images set and articles:\", articlesCount == imageDirsCount)\n"
   ]
  },
  {
   "cell_type": "code",
   "execution_count": 40,
   "metadata": {},
   "outputs": [
    {
     "name": "stdout",
     "output_type": "stream",
     "text": [
      "All images: 1899905\n"
     ]
    }
   ],
   "source": [
    "# Count all images of all articles\n",
    "\n",
    "image_count = sum(1 for _, _, files in os.walk(images_dir) for f in files)\n",
    "\n",
    "print('All images:', image_count)"
   ]
  },
  {
   "cell_type": "code",
   "execution_count": 41,
   "metadata": {},
   "outputs": [
    {
     "name": "stdout",
     "output_type": "stream",
     "text": [
      "Average size per image:  223.42793537240595\n"
     ]
    }
   ],
   "source": [
    "size_per_image = 434679655991/image_count\n",
    "size_per_image_kb = size_per_image/_KB\n",
    "print(\"Average size per image: \", size_per_image_kb)"
   ]
  }
 ],
 "metadata": {
  "kernelspec": {
   "display_name": "venv",
   "language": "python",
   "name": "python3"
  },
  "language_info": {
   "codemirror_mode": {
    "name": "ipython",
    "version": 3
   },
   "file_extension": ".py",
   "mimetype": "text/x-python",
   "name": "python",
   "nbconvert_exporter": "python",
   "pygments_lexer": "ipython3",
   "version": "3.11.4"
  },
  "orig_nbformat": 4
 },
 "nbformat": 4,
 "nbformat_minor": 2
}
